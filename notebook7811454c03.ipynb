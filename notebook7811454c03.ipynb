{
 "cells": [
  {
   "cell_type": "code",
   "execution_count": 1,
   "id": "24a8a9a0",
   "metadata": {
    "_cell_guid": "b1076dfc-b9ad-4769-8c92-a6c4dae69d19",
    "_uuid": "8f2839f25d086af736a60e9eeb907d3b93b6e0e5",
    "execution": {
     "iopub.execute_input": "2023-02-27T20:12:55.543504Z",
     "iopub.status.busy": "2023-02-27T20:12:55.542950Z",
     "iopub.status.idle": "2023-02-27T20:12:55.569271Z",
     "shell.execute_reply": "2023-02-27T20:12:55.567535Z"
    },
    "papermill": {
     "duration": 0.037057,
     "end_time": "2023-02-27T20:12:55.572189",
     "exception": false,
     "start_time": "2023-02-27T20:12:55.535132",
     "status": "completed"
    },
    "tags": []
   },
   "outputs": [
    {
     "name": "stdout",
     "output_type": "stream",
     "text": [
      "/kaggle/input/movies5/movies_metadata.csv\n",
      "/kaggle/input/movies/movies_metadata.csv\n"
     ]
    }
   ],
   "source": [
    "# This Python 3 environment comes with many helpful analytics libraries installed\n",
    "# It is defined by the kaggle/python Docker image: https://github.com/kaggle/docker-python\n",
    "# For example, here's several helpful packages to load\n",
    "\n",
    "import numpy as np # linear algebra\n",
    "import pandas as pd # data processing, CSV file I/O (e.g. pd.read_csv)\n",
    "\n",
    "# Input data files are available in the read-only \"../input/\" directory\n",
    "# For example, running this (by clicking run or pressing Shift+Enter) will list all files under the input directory\n",
    "\n",
    "import os\n",
    "for dirname, _, filenames in os.walk('/kaggle/input'):\n",
    "    for filename in filenames:\n",
    "        print(os.path.join(dirname, filename))\n",
    "\n",
    "# You can write up to 20GB to the current directory (/kaggle/working/) that gets preserved as output when you create a version using \"Save & Run All\" \n",
    "# You can also write temporary files to /kaggle/temp/, but they won't be saved outside of the current session"
   ]
  },
  {
   "cell_type": "code",
   "execution_count": 2,
   "id": "c5faf3f8",
   "metadata": {
    "execution": {
     "iopub.execute_input": "2023-02-27T20:12:55.584739Z",
     "iopub.status.busy": "2023-02-27T20:12:55.583369Z",
     "iopub.status.idle": "2023-02-27T20:12:56.814945Z",
     "shell.execute_reply": "2023-02-27T20:12:56.813795Z"
    },
    "papermill": {
     "duration": 1.240351,
     "end_time": "2023-02-27T20:12:56.817897",
     "exception": false,
     "start_time": "2023-02-27T20:12:55.577546",
     "status": "completed"
    },
    "tags": []
   },
   "outputs": [],
   "source": [
    "import pandas as pd\n",
    "pd.set_option(\"display.max_columns\", None)\n",
    "pd.set_option(\"display.width\", 500)\n",
    "pd.set_option(\"display.expand_frame_repr\", False)\n",
    "from sklearn.feature_extraction.text import TfidfVectorizer\n",
    "from sklearn.metrics.pairwise import cosine_similarity\n"
   ]
  },
  {
   "cell_type": "code",
   "execution_count": 3,
   "id": "48c9c0df",
   "metadata": {
    "execution": {
     "iopub.execute_input": "2023-02-27T20:12:56.829066Z",
     "iopub.status.busy": "2023-02-27T20:12:56.828615Z",
     "iopub.status.idle": "2023-02-27T20:12:58.003091Z",
     "shell.execute_reply": "2023-02-27T20:12:58.001862Z"
    },
    "papermill": {
     "duration": 1.183213,
     "end_time": "2023-02-27T20:12:58.005947",
     "exception": false,
     "start_time": "2023-02-27T20:12:56.822734",
     "status": "completed"
    },
    "tags": []
   },
   "outputs": [
    {
     "data": {
      "text/plain": [
       "(45466, 24)"
      ]
     },
     "execution_count": 3,
     "metadata": {},
     "output_type": "execute_result"
    }
   ],
   "source": [
    "df = pd.read_csv(\"/kaggle/input/movies/movies_metadata.csv\", low_memory=False)\n",
    "df.head()\n",
    "df.shape"
   ]
  },
  {
   "cell_type": "code",
   "execution_count": 4,
   "id": "f9603c70",
   "metadata": {
    "execution": {
     "iopub.execute_input": "2023-02-27T20:12:58.017460Z",
     "iopub.status.busy": "2023-02-27T20:12:58.016581Z",
     "iopub.status.idle": "2023-02-27T20:12:58.040460Z",
     "shell.execute_reply": "2023-02-27T20:12:58.038410Z"
    },
    "papermill": {
     "duration": 0.033515,
     "end_time": "2023-02-27T20:12:58.044284",
     "exception": false,
     "start_time": "2023-02-27T20:12:58.010769",
     "status": "completed"
    },
    "tags": []
   },
   "outputs": [],
   "source": [
    "df[\"overview\"] = df[\"overview\"].fillna(\" \")"
   ]
  },
  {
   "cell_type": "code",
   "execution_count": 5,
   "id": "3bfb85f3",
   "metadata": {
    "execution": {
     "iopub.execute_input": "2023-02-27T20:12:58.055930Z",
     "iopub.status.busy": "2023-02-27T20:12:58.055442Z",
     "iopub.status.idle": "2023-02-27T20:12:58.060429Z",
     "shell.execute_reply": "2023-02-27T20:12:58.059407Z"
    },
    "papermill": {
     "duration": 0.014235,
     "end_time": "2023-02-27T20:12:58.063296",
     "exception": false,
     "start_time": "2023-02-27T20:12:58.049061",
     "status": "completed"
    },
    "tags": []
   },
   "outputs": [],
   "source": [
    "tfidf = TfidfVectorizer(stop_words=\"english\")"
   ]
  },
  {
   "cell_type": "code",
   "execution_count": 6,
   "id": "600e2568",
   "metadata": {
    "execution": {
     "iopub.execute_input": "2023-02-27T20:12:58.074515Z",
     "iopub.status.busy": "2023-02-27T20:12:58.074076Z",
     "iopub.status.idle": "2023-02-27T20:13:00.083271Z",
     "shell.execute_reply": "2023-02-27T20:13:00.081995Z"
    },
    "papermill": {
     "duration": 2.018637,
     "end_time": "2023-02-27T20:13:00.086458",
     "exception": false,
     "start_time": "2023-02-27T20:12:58.067821",
     "status": "completed"
    },
    "tags": []
   },
   "outputs": [],
   "source": [
    "tfidf_matrix = tfidf.fit_transform(df[\"overview\"])"
   ]
  },
  {
   "cell_type": "code",
   "execution_count": 7,
   "id": "8ecf0d02",
   "metadata": {
    "execution": {
     "iopub.execute_input": "2023-02-27T20:13:00.097436Z",
     "iopub.status.busy": "2023-02-27T20:13:00.097060Z",
     "iopub.status.idle": "2023-02-27T20:13:00.103896Z",
     "shell.execute_reply": "2023-02-27T20:13:00.102744Z"
    },
    "papermill": {
     "duration": 0.015632,
     "end_time": "2023-02-27T20:13:00.106770",
     "exception": false,
     "start_time": "2023-02-27T20:13:00.091138",
     "status": "completed"
    },
    "tags": []
   },
   "outputs": [
    {
     "data": {
      "text/plain": [
       "(45466, 75827)"
      ]
     },
     "execution_count": 7,
     "metadata": {},
     "output_type": "execute_result"
    }
   ],
   "source": [
    "tfidf_matrix.shape"
   ]
  },
  {
   "cell_type": "code",
   "execution_count": 8,
   "id": "fdb32e21",
   "metadata": {
    "execution": {
     "iopub.execute_input": "2023-02-27T20:13:00.118472Z",
     "iopub.status.busy": "2023-02-27T20:13:00.118012Z",
     "iopub.status.idle": "2023-02-27T20:13:24.315957Z",
     "shell.execute_reply": "2023-02-27T20:13:24.314323Z"
    },
    "papermill": {
     "duration": 24.207179,
     "end_time": "2023-02-27T20:13:24.318685",
     "exception": false,
     "start_time": "2023-02-27T20:13:00.111506",
     "status": "completed"
    },
    "tags": []
   },
   "outputs": [],
   "source": [
    "cosine_sim = cosine_similarity(tfidf_matrix, tfidf_matrix)"
   ]
  },
  {
   "cell_type": "code",
   "execution_count": 9,
   "id": "8a930c24",
   "metadata": {
    "execution": {
     "iopub.execute_input": "2023-02-27T20:13:24.329437Z",
     "iopub.status.busy": "2023-02-27T20:13:24.328805Z",
     "iopub.status.idle": "2023-02-27T20:13:24.334586Z",
     "shell.execute_reply": "2023-02-27T20:13:24.333518Z"
    },
    "papermill": {
     "duration": 0.014716,
     "end_time": "2023-02-27T20:13:24.338086",
     "exception": false,
     "start_time": "2023-02-27T20:13:24.323370",
     "status": "completed"
    },
    "tags": []
   },
   "outputs": [],
   "source": [
    "indices = pd.Series(df.index, index=df[\"title\"])"
   ]
  },
  {
   "cell_type": "code",
   "execution_count": 10,
   "id": "30ca42c6",
   "metadata": {
    "execution": {
     "iopub.execute_input": "2023-02-27T20:13:24.350099Z",
     "iopub.status.busy": "2023-02-27T20:13:24.349462Z",
     "iopub.status.idle": "2023-02-27T20:13:24.369847Z",
     "shell.execute_reply": "2023-02-27T20:13:24.368672Z"
    },
    "papermill": {
     "duration": 0.030031,
     "end_time": "2023-02-27T20:13:24.372785",
     "exception": false,
     "start_time": "2023-02-27T20:13:24.342754",
     "status": "completed"
    },
    "tags": []
   },
   "outputs": [],
   "source": [
    "indices = indices[~indices.index.duplicated(keep=\"last\")]"
   ]
  },
  {
   "cell_type": "code",
   "execution_count": 11,
   "id": "3149dfbd",
   "metadata": {
    "execution": {
     "iopub.execute_input": "2023-02-27T20:13:24.383773Z",
     "iopub.status.busy": "2023-02-27T20:13:24.383359Z",
     "iopub.status.idle": "2023-02-27T20:13:24.392459Z",
     "shell.execute_reply": "2023-02-27T20:13:24.391447Z"
    },
    "papermill": {
     "duration": 0.017507,
     "end_time": "2023-02-27T20:13:24.394891",
     "exception": false,
     "start_time": "2023-02-27T20:13:24.377384",
     "status": "completed"
    },
    "tags": []
   },
   "outputs": [],
   "source": [
    "movie_index = indices[\"Moneyball\"]"
   ]
  },
  {
   "cell_type": "code",
   "execution_count": 12,
   "id": "f4234021",
   "metadata": {
    "execution": {
     "iopub.execute_input": "2023-02-27T20:13:24.406665Z",
     "iopub.status.busy": "2023-02-27T20:13:24.405463Z",
     "iopub.status.idle": "2023-02-27T20:13:24.412844Z",
     "shell.execute_reply": "2023-02-27T20:13:24.411029Z"
    },
    "papermill": {
     "duration": 0.016718,
     "end_time": "2023-02-27T20:13:24.416179",
     "exception": false,
     "start_time": "2023-02-27T20:13:24.399461",
     "status": "completed"
    },
    "tags": []
   },
   "outputs": [],
   "source": [
    "similarity_scores = pd.DataFrame(cosine_sim[movie_index], columns=[\"score\"])"
   ]
  },
  {
   "cell_type": "code",
   "execution_count": 13,
   "id": "15154e8c",
   "metadata": {
    "execution": {
     "iopub.execute_input": "2023-02-27T20:13:24.427345Z",
     "iopub.status.busy": "2023-02-27T20:13:24.426921Z",
     "iopub.status.idle": "2023-02-27T20:13:24.438128Z",
     "shell.execute_reply": "2023-02-27T20:13:24.436266Z"
    },
    "papermill": {
     "duration": 0.02056,
     "end_time": "2023-02-27T20:13:24.441330",
     "exception": false,
     "start_time": "2023-02-27T20:13:24.420770",
     "status": "completed"
    },
    "tags": []
   },
   "outputs": [],
   "source": [
    "movie_indices = similarity_scores.sort_values(\"score\", ascending=False)[1:25].index"
   ]
  },
  {
   "cell_type": "code",
   "execution_count": 14,
   "id": "18bfbfb1",
   "metadata": {
    "execution": {
     "iopub.execute_input": "2023-02-27T20:13:24.453232Z",
     "iopub.status.busy": "2023-02-27T20:13:24.451873Z",
     "iopub.status.idle": "2023-02-27T20:13:24.460238Z",
     "shell.execute_reply": "2023-02-27T20:13:24.459205Z"
    },
    "papermill": {
     "duration": 0.016311,
     "end_time": "2023-02-27T20:13:24.462258",
     "exception": false,
     "start_time": "2023-02-27T20:13:24.445947",
     "status": "completed"
    },
    "tags": []
   },
   "outputs": [
    {
     "data": {
      "text/plain": [
       "Int64Index([27474, 563, 30881, 23159, 39556, 20887, 19738, 2557, 4573, 37664, 6374, 12120, 18945, 20759, 20625, 25881, 31777, 167, 6108, 5158, 23403, 5009, 23700, 4194], dtype='int64')"
      ]
     },
     "execution_count": 14,
     "metadata": {},
     "output_type": "execute_result"
    }
   ],
   "source": [
    "movie_indices"
   ]
  },
  {
   "cell_type": "code",
   "execution_count": 15,
   "id": "779fa5ea",
   "metadata": {
    "execution": {
     "iopub.execute_input": "2023-02-27T20:13:24.474909Z",
     "iopub.status.busy": "2023-02-27T20:13:24.474421Z",
     "iopub.status.idle": "2023-02-27T20:13:24.483177Z",
     "shell.execute_reply": "2023-02-27T20:13:24.481938Z"
    },
    "papermill": {
     "duration": 0.018661,
     "end_time": "2023-02-27T20:13:24.486417",
     "exception": false,
     "start_time": "2023-02-27T20:13:24.467756",
     "status": "completed"
    },
    "tags": []
   },
   "outputs": [
    {
     "data": {
      "text/plain": [
       "27474                                Time in the Minors\n",
       "563                                   Little Big League\n",
       "30881                                         Dinotasia\n",
       "23159                                         Draft Day\n",
       "39556                                         Undrafted\n",
       "20887                                       Numéro Deux\n",
       "19738                                 Two Days In April\n",
       "2557                               The Thirteenth Floor\n",
       "4573                                     Thomas in Love\n",
       "37664                   Kokoyakyu: High School Baseball\n",
       "6374                                       Mr. Baseball\n",
       "12120                                  The Final Season\n",
       "18945                               Walking with Beasts\n",
       "20759                                                42\n",
       "20625                                       Blood Games\n",
       "25881                               Dealin' with Idiots\n",
       "31777                                   Elway To Marino\n",
       "167                                             Hackers\n",
       "6108                                Talent for the Game\n",
       "5158                                          Slap Shot\n",
       "23403    Paying the Price: Killing the Children of Iraq\n",
       "5009                     The Bad News Bears Go to Japan\n",
       "23700                 The Battered Bastards of Baseball\n",
       "4194                                      Eight Men Out\n",
       "Name: title, dtype: object"
      ]
     },
     "execution_count": 15,
     "metadata": {},
     "output_type": "execute_result"
    }
   ],
   "source": [
    "df[\"title\"].iloc[movie_indices]"
   ]
  },
  {
   "cell_type": "code",
   "execution_count": null,
   "id": "76978cd7",
   "metadata": {
    "papermill": {
     "duration": 0.004438,
     "end_time": "2023-02-27T20:13:24.495681",
     "exception": false,
     "start_time": "2023-02-27T20:13:24.491243",
     "status": "completed"
    },
    "tags": []
   },
   "outputs": [],
   "source": []
  }
 ],
 "metadata": {
  "kernelspec": {
   "display_name": "Python 3",
   "language": "python",
   "name": "python3"
  },
  "language_info": {
   "codemirror_mode": {
    "name": "ipython",
    "version": 3
   },
   "file_extension": ".py",
   "mimetype": "text/x-python",
   "name": "python",
   "nbconvert_exporter": "python",
   "pygments_lexer": "ipython3",
   "version": "3.7.12"
  },
  "papermill": {
   "default_parameters": {},
   "duration": 40.167918,
   "end_time": "2023-02-27T20:13:26.029055",
   "environment_variables": {},
   "exception": null,
   "input_path": "__notebook__.ipynb",
   "output_path": "__notebook__.ipynb",
   "parameters": {},
   "start_time": "2023-02-27T20:12:45.861137",
   "version": "2.4.0"
  }
 },
 "nbformat": 4,
 "nbformat_minor": 5
}
