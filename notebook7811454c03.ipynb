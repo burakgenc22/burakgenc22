{
 "cells": [
  {
   "cell_type": "code",
   "execution_count": 1,
   "id": "affbccd9",
   "metadata": {
    "_cell_guid": "b1076dfc-b9ad-4769-8c92-a6c4dae69d19",
    "_uuid": "8f2839f25d086af736a60e9eeb907d3b93b6e0e5",
    "execution": {
     "iopub.execute_input": "2023-02-27T20:40:27.160575Z",
     "iopub.status.busy": "2023-02-27T20:40:27.160143Z",
     "iopub.status.idle": "2023-02-27T20:40:27.185757Z",
     "shell.execute_reply": "2023-02-27T20:40:27.184328Z"
    },
    "papermill": {
     "duration": 0.036384,
     "end_time": "2023-02-27T20:40:27.188953",
     "exception": false,
     "start_time": "2023-02-27T20:40:27.152569",
     "status": "completed"
    },
    "tags": []
   },
   "outputs": [
    {
     "name": "stdout",
     "output_type": "stream",
     "text": [
      "/kaggle/input/movies/movies_metadata.csv\n",
      "/kaggle/input/movies5/movies_metadata.csv\n"
     ]
    }
   ],
   "source": [
    "# This Python 3 environment comes with many helpful analytics libraries installed\n",
    "# It is defined by the kaggle/python Docker image: https://github.com/kaggle/docker-python\n",
    "# For example, here's several helpful packages to load\n",
    "\n",
    "import numpy as np # linear algebra\n",
    "import pandas as pd # data processing, CSV file I/O (e.g. pd.read_csv)\n",
    "\n",
    "# Input data files are available in the read-only \"../input/\" directory\n",
    "# For example, running this (by clicking run or pressing Shift+Enter) will list all files under the input directory\n",
    "\n",
    "import os\n",
    "for dirname, _, filenames in os.walk('/kaggle/input'):\n",
    "    for filename in filenames:\n",
    "        print(os.path.join(dirname, filename))\n",
    "\n",
    "# You can write up to 20GB to the current directory (/kaggle/working/) that gets preserved as output when you create a version using \"Save & Run All\" \n",
    "# You can also write temporary files to /kaggle/temp/, but they won't be saved outside of the current session"
   ]
  },
  {
   "cell_type": "code",
   "execution_count": 2,
   "id": "1e5e7e76",
   "metadata": {
    "execution": {
     "iopub.execute_input": "2023-02-27T20:40:27.200377Z",
     "iopub.status.busy": "2023-02-27T20:40:27.199978Z",
     "iopub.status.idle": "2023-02-27T20:40:28.314337Z",
     "shell.execute_reply": "2023-02-27T20:40:28.312935Z"
    },
    "papermill": {
     "duration": 1.123359,
     "end_time": "2023-02-27T20:40:28.317322",
     "exception": false,
     "start_time": "2023-02-27T20:40:27.193963",
     "status": "completed"
    },
    "tags": []
   },
   "outputs": [],
   "source": [
    "import pandas as pd\n",
    "pd.set_option(\"display.max_columns\", None)\n",
    "pd.set_option(\"display.width\", 500)\n",
    "pd.set_option(\"display.expand_frame_repr\", False)\n",
    "from sklearn.feature_extraction.text import TfidfVectorizer\n",
    "from sklearn.metrics.pairwise import cosine_similarity\n"
   ]
  },
  {
   "cell_type": "code",
   "execution_count": 3,
   "id": "a22c33b1",
   "metadata": {
    "execution": {
     "iopub.execute_input": "2023-02-27T20:40:28.329754Z",
     "iopub.status.busy": "2023-02-27T20:40:28.328582Z",
     "iopub.status.idle": "2023-02-27T20:40:29.511578Z",
     "shell.execute_reply": "2023-02-27T20:40:29.510053Z"
    },
    "papermill": {
     "duration": 1.191931,
     "end_time": "2023-02-27T20:40:29.514207",
     "exception": false,
     "start_time": "2023-02-27T20:40:28.322276",
     "status": "completed"
    },
    "tags": []
   },
   "outputs": [
    {
     "data": {
      "text/plain": [
       "(45466, 24)"
      ]
     },
     "execution_count": 3,
     "metadata": {},
     "output_type": "execute_result"
    }
   ],
   "source": [
    "df = pd.read_csv(\"/kaggle/input/movies/movies_metadata.csv\", low_memory=False)\n",
    "df.head()\n",
    "df.shape"
   ]
  },
  {
   "cell_type": "code",
   "execution_count": 4,
   "id": "111f4c0c",
   "metadata": {
    "execution": {
     "iopub.execute_input": "2023-02-27T20:40:29.525720Z",
     "iopub.status.busy": "2023-02-27T20:40:29.525321Z",
     "iopub.status.idle": "2023-02-27T20:40:29.547906Z",
     "shell.execute_reply": "2023-02-27T20:40:29.546596Z"
    },
    "papermill": {
     "duration": 0.031549,
     "end_time": "2023-02-27T20:40:29.550598",
     "exception": false,
     "start_time": "2023-02-27T20:40:29.519049",
     "status": "completed"
    },
    "tags": []
   },
   "outputs": [],
   "source": [
    "df[\"overview\"] = df[\"overview\"].fillna(\" \")"
   ]
  },
  {
   "cell_type": "code",
   "execution_count": 5,
   "id": "f74e20a5",
   "metadata": {
    "execution": {
     "iopub.execute_input": "2023-02-27T20:40:29.562639Z",
     "iopub.status.busy": "2023-02-27T20:40:29.561883Z",
     "iopub.status.idle": "2023-02-27T20:40:29.567544Z",
     "shell.execute_reply": "2023-02-27T20:40:29.566314Z"
    },
    "papermill": {
     "duration": 0.014388,
     "end_time": "2023-02-27T20:40:29.570015",
     "exception": false,
     "start_time": "2023-02-27T20:40:29.555627",
     "status": "completed"
    },
    "tags": []
   },
   "outputs": [],
   "source": [
    "tfidf = TfidfVectorizer(stop_words=\"english\")"
   ]
  },
  {
   "cell_type": "code",
   "execution_count": 6,
   "id": "05312fc5",
   "metadata": {
    "execution": {
     "iopub.execute_input": "2023-02-27T20:40:29.581351Z",
     "iopub.status.busy": "2023-02-27T20:40:29.580940Z",
     "iopub.status.idle": "2023-02-27T20:40:31.975326Z",
     "shell.execute_reply": "2023-02-27T20:40:31.974097Z"
    },
    "papermill": {
     "duration": 2.403389,
     "end_time": "2023-02-27T20:40:31.978240",
     "exception": false,
     "start_time": "2023-02-27T20:40:29.574851",
     "status": "completed"
    },
    "tags": []
   },
   "outputs": [],
   "source": [
    "tfidf_matrix = tfidf.fit_transform(df[\"overview\"])"
   ]
  },
  {
   "cell_type": "code",
   "execution_count": 7,
   "id": "812b48dd",
   "metadata": {
    "execution": {
     "iopub.execute_input": "2023-02-27T20:40:31.990004Z",
     "iopub.status.busy": "2023-02-27T20:40:31.989227Z",
     "iopub.status.idle": "2023-02-27T20:40:31.996611Z",
     "shell.execute_reply": "2023-02-27T20:40:31.995452Z"
    },
    "papermill": {
     "duration": 0.015868,
     "end_time": "2023-02-27T20:40:31.999018",
     "exception": false,
     "start_time": "2023-02-27T20:40:31.983150",
     "status": "completed"
    },
    "tags": []
   },
   "outputs": [
    {
     "data": {
      "text/plain": [
       "(45466, 75827)"
      ]
     },
     "execution_count": 7,
     "metadata": {},
     "output_type": "execute_result"
    }
   ],
   "source": [
    "tfidf_matrix.shape"
   ]
  },
  {
   "cell_type": "code",
   "execution_count": 8,
   "id": "f76b5769",
   "metadata": {
    "execution": {
     "iopub.execute_input": "2023-02-27T20:40:32.010585Z",
     "iopub.status.busy": "2023-02-27T20:40:32.010138Z",
     "iopub.status.idle": "2023-02-27T20:41:16.009602Z",
     "shell.execute_reply": "2023-02-27T20:41:16.008249Z"
    },
    "papermill": {
     "duration": 44.00853,
     "end_time": "2023-02-27T20:41:16.012491",
     "exception": false,
     "start_time": "2023-02-27T20:40:32.003961",
     "status": "completed"
    },
    "tags": []
   },
   "outputs": [],
   "source": [
    "cosine_sim = cosine_similarity(tfidf_matrix, tfidf_matrix)"
   ]
  },
  {
   "cell_type": "code",
   "execution_count": 9,
   "id": "55d01257",
   "metadata": {
    "execution": {
     "iopub.execute_input": "2023-02-27T20:41:16.024347Z",
     "iopub.status.busy": "2023-02-27T20:41:16.023944Z",
     "iopub.status.idle": "2023-02-27T20:41:16.029672Z",
     "shell.execute_reply": "2023-02-27T20:41:16.028597Z"
    },
    "papermill": {
     "duration": 0.014864,
     "end_time": "2023-02-27T20:41:16.032351",
     "exception": false,
     "start_time": "2023-02-27T20:41:16.017487",
     "status": "completed"
    },
    "tags": []
   },
   "outputs": [],
   "source": [
    "indices = pd.Series(df.index, index=df[\"title\"])"
   ]
  },
  {
   "cell_type": "code",
   "execution_count": 10,
   "id": "985aa90f",
   "metadata": {
    "execution": {
     "iopub.execute_input": "2023-02-27T20:41:16.044360Z",
     "iopub.status.busy": "2023-02-27T20:41:16.043944Z",
     "iopub.status.idle": "2023-02-27T20:41:16.065074Z",
     "shell.execute_reply": "2023-02-27T20:41:16.063835Z"
    },
    "papermill": {
     "duration": 0.030432,
     "end_time": "2023-02-27T20:41:16.067815",
     "exception": false,
     "start_time": "2023-02-27T20:41:16.037383",
     "status": "completed"
    },
    "tags": []
   },
   "outputs": [],
   "source": [
    "indices = indices[~indices.index.duplicated(keep=\"last\")]"
   ]
  },
  {
   "cell_type": "code",
   "execution_count": 11,
   "id": "99a1366c",
   "metadata": {
    "execution": {
     "iopub.execute_input": "2023-02-27T20:41:16.079618Z",
     "iopub.status.busy": "2023-02-27T20:41:16.079177Z",
     "iopub.status.idle": "2023-02-27T20:41:16.091380Z",
     "shell.execute_reply": "2023-02-27T20:41:16.090025Z"
    },
    "papermill": {
     "duration": 0.021271,
     "end_time": "2023-02-27T20:41:16.094135",
     "exception": false,
     "start_time": "2023-02-27T20:41:16.072864",
     "status": "completed"
    },
    "tags": []
   },
   "outputs": [],
   "source": [
    "movie_index = indices[\"Moneyball\"]"
   ]
  },
  {
   "cell_type": "code",
   "execution_count": 12,
   "id": "c715675d",
   "metadata": {
    "execution": {
     "iopub.execute_input": "2023-02-27T20:41:16.106204Z",
     "iopub.status.busy": "2023-02-27T20:41:16.105733Z",
     "iopub.status.idle": "2023-02-27T20:41:16.111762Z",
     "shell.execute_reply": "2023-02-27T20:41:16.110423Z"
    },
    "papermill": {
     "duration": 0.015195,
     "end_time": "2023-02-27T20:41:16.114314",
     "exception": false,
     "start_time": "2023-02-27T20:41:16.099119",
     "status": "completed"
    },
    "tags": []
   },
   "outputs": [],
   "source": [
    "similarity_scores = pd.DataFrame(cosine_sim[movie_index], columns=[\"score\"])"
   ]
  },
  {
   "cell_type": "code",
   "execution_count": 13,
   "id": "84706da9",
   "metadata": {
    "execution": {
     "iopub.execute_input": "2023-02-27T20:41:16.126184Z",
     "iopub.status.busy": "2023-02-27T20:41:16.125721Z",
     "iopub.status.idle": "2023-02-27T20:41:16.136968Z",
     "shell.execute_reply": "2023-02-27T20:41:16.135696Z"
    },
    "papermill": {
     "duration": 0.020306,
     "end_time": "2023-02-27T20:41:16.139631",
     "exception": false,
     "start_time": "2023-02-27T20:41:16.119325",
     "status": "completed"
    },
    "tags": []
   },
   "outputs": [],
   "source": [
    "movie_indices = similarity_scores.sort_values(\"score\", ascending=False)[1:25].index"
   ]
  },
  {
   "cell_type": "code",
   "execution_count": 14,
   "id": "f0a6e2bd",
   "metadata": {
    "execution": {
     "iopub.execute_input": "2023-02-27T20:41:16.152505Z",
     "iopub.status.busy": "2023-02-27T20:41:16.151279Z",
     "iopub.status.idle": "2023-02-27T20:41:16.159519Z",
     "shell.execute_reply": "2023-02-27T20:41:16.158339Z"
    },
    "papermill": {
     "duration": 0.017179,
     "end_time": "2023-02-27T20:41:16.162103",
     "exception": false,
     "start_time": "2023-02-27T20:41:16.144924",
     "status": "completed"
    },
    "tags": []
   },
   "outputs": [
    {
     "data": {
      "text/plain": [
       "Int64Index([27474, 563, 30881, 23159, 39556, 20887, 19738, 2557, 4573, 37664, 6374, 12120, 18945, 20759, 20625, 25881, 31777, 167, 6108, 5158, 23403, 5009, 23700, 4194], dtype='int64')"
      ]
     },
     "execution_count": 14,
     "metadata": {},
     "output_type": "execute_result"
    }
   ],
   "source": [
    "movie_indices"
   ]
  },
  {
   "cell_type": "code",
   "execution_count": 15,
   "id": "73222f72",
   "metadata": {
    "execution": {
     "iopub.execute_input": "2023-02-27T20:41:16.174339Z",
     "iopub.status.busy": "2023-02-27T20:41:16.173544Z",
     "iopub.status.idle": "2023-02-27T20:41:16.182920Z",
     "shell.execute_reply": "2023-02-27T20:41:16.181623Z"
    },
    "papermill": {
     "duration": 0.018345,
     "end_time": "2023-02-27T20:41:16.185530",
     "exception": false,
     "start_time": "2023-02-27T20:41:16.167185",
     "status": "completed"
    },
    "tags": []
   },
   "outputs": [
    {
     "data": {
      "text/plain": [
       "27474                                Time in the Minors\n",
       "563                                   Little Big League\n",
       "30881                                         Dinotasia\n",
       "23159                                         Draft Day\n",
       "39556                                         Undrafted\n",
       "20887                                       Numéro Deux\n",
       "19738                                 Two Days In April\n",
       "2557                               The Thirteenth Floor\n",
       "4573                                     Thomas in Love\n",
       "37664                   Kokoyakyu: High School Baseball\n",
       "6374                                       Mr. Baseball\n",
       "12120                                  The Final Season\n",
       "18945                               Walking with Beasts\n",
       "20759                                                42\n",
       "20625                                       Blood Games\n",
       "25881                               Dealin' with Idiots\n",
       "31777                                   Elway To Marino\n",
       "167                                             Hackers\n",
       "6108                                Talent for the Game\n",
       "5158                                          Slap Shot\n",
       "23403    Paying the Price: Killing the Children of Iraq\n",
       "5009                     The Bad News Bears Go to Japan\n",
       "23700                 The Battered Bastards of Baseball\n",
       "4194                                      Eight Men Out\n",
       "Name: title, dtype: object"
      ]
     },
     "execution_count": 15,
     "metadata": {},
     "output_type": "execute_result"
    }
   ],
   "source": [
    "df[\"title\"].iloc[movie_indices]"
   ]
  },
  {
   "cell_type": "code",
   "execution_count": null,
   "id": "956b2195",
   "metadata": {
    "papermill": {
     "duration": 0.00511,
     "end_time": "2023-02-27T20:41:16.195939",
     "exception": false,
     "start_time": "2023-02-27T20:41:16.190829",
     "status": "completed"
    },
    "tags": []
   },
   "outputs": [],
   "source": []
  }
 ],
 "metadata": {
  "kernelspec": {
   "display_name": "Python 3",
   "language": "python",
   "name": "python3"
  },
  "language_info": {
   "codemirror_mode": {
    "name": "ipython",
    "version": 3
   },
   "file_extension": ".py",
   "mimetype": "text/x-python",
   "name": "python",
   "nbconvert_exporter": "python",
   "pygments_lexer": "ipython3",
   "version": "3.7.12"
  },
  "papermill": {
   "default_parameters": {},
   "duration": 60.797754,
   "end_time": "2023-02-27T20:41:17.727654",
   "environment_variables": {},
   "exception": null,
   "input_path": "__notebook__.ipynb",
   "output_path": "__notebook__.ipynb",
   "parameters": {},
   "start_time": "2023-02-27T20:40:16.929900",
   "version": "2.4.0"
  }
 },
 "nbformat": 4,
 "nbformat_minor": 5
}
